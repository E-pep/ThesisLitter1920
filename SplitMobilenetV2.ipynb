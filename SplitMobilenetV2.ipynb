{
  "nbformat": 4,
  "nbformat_minor": 0,
  "metadata": {
    "colab": {
      "name": "SplitMobilenetV2.ipynb",
      "provenance": [],
      "collapsed_sections": [],
      "authorship_tag": "ABX9TyP5CRKeH2xOmpxPlkD5lE46",
      "include_colab_link": true
    },
    "kernelspec": {
      "name": "python3",
      "display_name": "Python 3"
    },
    "accelerator": "GPU"
  },
  "cells": [
    {
      "cell_type": "markdown",
      "metadata": {
        "id": "view-in-github",
        "colab_type": "text"
      },
      "source": [
        "<a href=\"https://colab.research.google.com/github/E-pep/ThesisLitter1920/blob/master/SplitMobilenetV2.ipynb\" target=\"_parent\"><img src=\"https://colab.research.google.com/assets/colab-badge.svg\" alt=\"Open In Colab\"/></a>"
      ]
    },
    {
      "cell_type": "markdown",
      "metadata": {
        "id": "rZtWAXQUDiN_",
        "colab_type": "text"
      },
      "source": [
        "https://www.tensorflow.org/tutorials/images/transfer_learning\n"
      ]
    },
    {
      "cell_type": "code",
      "metadata": {
        "colab_type": "code",
        "id": "OGNpmn43C0O6",
        "colab": {}
      },
      "source": [
        "from __future__ import absolute_import, division, print_function, unicode_literals\n",
        "\n",
        "import matplotlib.pylab as plt\n",
        "import numpy as np\n",
        "try:\n",
        "  # %tensorflow_version only exists in Colab.\n",
        "  # !pip install tf-nightly\n",
        "  !pip install tensorflow==2.0.0\n",
        "except Exception:\n",
        "  pass\n",
        "import tensorflow as tf\n",
        "print(tf.__version__)\n",
        "AUTOTUNE = tf.data.experimental.AUTOTUNE\n",
        "\n",
        "import IPython.display as display\n",
        "from PIL import Image\n",
        "from glob import glob\n",
        "import matplotlib.pyplot as plt\n",
        "import os\n",
        "import cv2"
      ],
      "execution_count": 0,
      "outputs": []
    },
    {
      "cell_type": "code",
      "metadata": {
        "id": "6t2aY2-t3YH8",
        "colab_type": "code",
        "colab": {}
      },
      "source": [
        "print(tf.__version__)"
      ],
      "execution_count": 0,
      "outputs": []
    },
    {
      "cell_type": "code",
      "metadata": {
        "id": "Rj7KypQg2WGf",
        "colab_type": "code",
        "colab": {}
      },
      "source": [
        "def getLayerIndexByName(model, layername):\n",
        "    for idx, layer in enumerate(model.layers):\n",
        "        if layer.name == layername:\n",
        "            return idx"
      ],
      "execution_count": 0,
      "outputs": []
    },
    {
      "cell_type": "markdown",
      "metadata": {
        "id": "kDmrInDBakM4",
        "colab_type": "text"
      },
      "source": [
        "# **Inladen voorgetraind model**"
      ]
    },
    {
      "cell_type": "code",
      "metadata": {
        "id": "HL2rpVxDLuX_",
        "colab_type": "code",
        "colab": {}
      },
      "source": [
        "from google.colab import drive\n",
        "drive.mount('/content/drive', force_remount=True)"
      ],
      "execution_count": 0,
      "outputs": []
    },
    {
      "cell_type": "code",
      "metadata": {
        "id": "pxJZpBtZw2xt",
        "colab_type": "code",
        "colab": {}
      },
      "source": [
        "# Insert path to model here\n",
        "reloaded = tf.keras.models.load_model(\"path to model here\")\n",
        "tf.keras.utils.plot_model(reloaded, to_file=\"path to model here\")"
      ],
      "execution_count": 0,
      "outputs": []
    },
    {
      "cell_type": "code",
      "metadata": {
        "id": "WNI4TdpCb60G",
        "colab_type": "code",
        "colab": {}
      },
      "source": [
        "reloaded.summary()"
      ],
      "execution_count": 0,
      "outputs": []
    },
    {
      "cell_type": "markdown",
      "metadata": {
        "id": "CLb65euJOP2l",
        "colab_type": "text"
      },
      "source": [
        "# **Find all Add Layers inputs**"
      ]
    },
    {
      "cell_type": "code",
      "metadata": {
        "id": "7FvSPpmcXSsD",
        "colab_type": "code",
        "colab": {}
      },
      "source": [
        "def SplitModel(FullModel, SplitLayer):\n",
        "\n",
        "    #initialize lists\n",
        "  IndexAddInputsList = []\n",
        "  IndexAddList = []\n",
        "  IndexInputsList = []\n",
        "\n",
        "  #run over model to find all add layers index\n",
        "  for index in range (0,len(FullModel.layers)):\n",
        "    if isinstance(FullModel.layers[index], tf.keras.layers.Add):\n",
        "\n",
        "      #add index of add layer to list \n",
        "      tempIndex1 = getLayerIndexByName(FullModel,FullModel.layers[index].input[0].name[:-11])\n",
        "      tempIndex2 = getLayerIndexByName(FullModel,FullModel.layers[index].input[1].name[:-11])\n",
        "      IndexAddInputsList.append([index,tempIndex1,tempIndex2, FullModel.layers[index].name])\n",
        "      IndexAddList.append(index)\n",
        "      IndexInputsList.append(tempIndex1)\n",
        "      IndexInputsList.append(tempIndex2)  \n",
        "      # InputsOfAddLayerList.append(FullModel.layers[index].)\n",
        "  # AddLayerIndexlist\n",
        "  IndexAddInputsList\n",
        "  # IndexInputsList\n",
        "\n",
        "\n",
        "\n",
        "\n",
        "  FirstModel = tf.keras.Model(inputs=FullModel.input,\n",
        "                                 outputs=FullModel.get_layer(SplitLayer).output)\n",
        "  \n",
        "  idx = getLayerIndexByName(FullModel, SplitLayer)\n",
        "  idx = idx+1\n",
        "  input_shape = FullModel.layers[idx].get_input_shape_at(0) # get the input shape of desired layer\n",
        "  # print(input_shape[1:])\n",
        "  layer_input = tf.keras.layers.Input(shape=input_shape[1:]) # a new input tensor to be able to feed the desired layer\n",
        "\n",
        "  # create the new nodes for each layer in the path\n",
        "  x = layer_input\n",
        "  teller = idx\n",
        "\n",
        "  # Variable keeps in mind to switch between x1 and x2\n",
        "  InputVarSwitch = 0\n",
        "\n",
        "  # Variable if regular after a Inputlayer or Add layer\n",
        "  #0 normal\n",
        "  #1 After Add layer\n",
        "  #2 After Input layer\n",
        "  RegularAfterSpecial = 0\n",
        "\n",
        "\n",
        "  for layer in FullModel.layers[idx:]:\n",
        "\n",
        "    #check if index of Input of Add is reached:\n",
        "    if teller in IndexAddList:\n",
        "      print (\"Add:\",teller, IndexX1, IndexX2)\n",
        "      Addlayer = tf.keras.layers.Add()([x1, x2])\n",
        "      RegularAfterSpecial = 1\n",
        "    #check if layer is input of Adder\n",
        "\n",
        "    if teller in IndexInputsList:\n",
        "\n",
        "      \n",
        "      if InputVarSwitch == 0:\n",
        "        if RegularAfterSpecial == 1:\n",
        "          print(\"kom ik hier1?\")\n",
        "          x1 = Addlayer\n",
        "        else:\n",
        "          x1 = layer(x)\n",
        "          print (\"input x1:\",teller)\n",
        "        RegularAfterSpecial = 2\n",
        "        InputVarSwitch = 1\n",
        "        IndexX1 = teller\n",
        "      else:\n",
        "        if RegularAfterSpecial == 1:\n",
        "          print(\"kom ik hier2?\")\n",
        "          x2 = Addlayer\n",
        "        else:\n",
        "          x2 = layer(x)\n",
        "          print (\"input x2:\",teller)\n",
        "          print(\"shape:\",x2.shape)\n",
        "        RegularAfterSpecial = 2\n",
        "        InputVarSwitch = 0\n",
        "        IndexX2 = teller\n",
        "      \n",
        "    elif teller in IndexAddList:\n",
        "      print(\"verdergaan\")\n",
        "      q = 1+1\n",
        "\n",
        "    # if we have a regular layer\n",
        "    else:\n",
        "      print(\"RegularAfterSpecial:\",RegularAfterSpecial)\n",
        "      if RegularAfterSpecial == 0:\n",
        "        x = layer(x)\n",
        "        print(\"regular layer:\", teller)\n",
        "      elif RegularAfterSpecial == 1:\n",
        "        print(\"shape:\",Addlayer.shape, \"layer:\", teller)\n",
        "        x = layer(Addlayer)\n",
        "        print(\"regular layer after add:\", teller, layer.__class__.__name__)\n",
        "      elif RegularAfterSpecial == 2:\n",
        "        print(\"regular layer after input:\", teller)\n",
        "        \n",
        "        if InputVarSwitch ==1:\n",
        "          x = layer(x1)\n",
        "        else:\n",
        "          x = layer(x2)\n",
        "      RegularAfterSpecial = 0\n",
        "      # x = layer(x)\n",
        "\n",
        "    # if isinstance(layer, tf.keras.layers.Add):   \n",
        "      #find layer in model\n",
        "      # p = layer.input[0].name\n",
        "      # tf.keras.layers.Add()([x1, x2])\n",
        "      # x = layer(x)\n",
        "    teller += 1\n",
        "\n",
        "\n",
        "\n",
        "\n",
        "\n",
        "  # create the model\n",
        "  SecondModel = tf.keras.Model(layer_input, x)\n",
        "  return FirstModel, SecondModel"
      ],
      "execution_count": 0,
      "outputs": []
    },
    {
      "cell_type": "code",
      "metadata": {
        "id": "HCSmlGTwgvHQ",
        "colab_type": "code",
        "colab": {}
      },
      "source": [
        "# path where to save \n",
        "def SaveModel(FirstModel, SecondModel, modelIdx):\n",
        "  export_path = \"path where to save/model{}/first\".format(int(modelIdx))\n",
        "  os.makedirs(export_path)\n",
        "  export_path += \"/FirstModel\"\n",
        "  tf.keras.models.save_model(FirstModel, export_path, save_format='h5')\n",
        "  tf.keras.utils.plot_model(FirstModel, to_file='path where to save/model{}/Firstmodel.png'.format(int(modelIdx)))\n",
        "\n",
        "\n",
        "  export_path = \"path where to save/model{}/second\".format(int(modelIdx))\n",
        "  os.makedirs(export_path)\n",
        "  export_path += \"/SecondModel\"\n",
        "  tf.keras.models.save_model(SecondModel, export_path, save_format='h5')\n",
        "  tf.keras.utils.plot_model(SecondModel, to_file='path where to save/model{}/Secondmodel.png'.format(int(modelIdx)))"
      ],
      "execution_count": 0,
      "outputs": []
    },
    {
      "cell_type": "code",
      "metadata": {
        "id": "bOAfPxXsY3Fd",
        "colab_type": "code",
        "colab": {}
      },
      "source": [
        "LayersToSplitList = ['expanded_conv_project_BN', 'block_1_expand_relu', 'block_1_project', 'block_2_add', 'block_3_expand_relu', 'block_3_project', 'block_5_add'\n",
        "                      ,'block_6_expand_relu', 'block_6_project',  'block_9_add', 'block_10_project', 'block_12_add', 'block_13_expand_relu', \n",
        "                     'block_15_add', 'block_16_project', 'global_average_pooling2d', 'dense']\n",
        "\n",
        "teller = 1\n",
        "for layer in LayersToSplitList:\n",
        "  FirstModel, SecondModel = SplitModel(reloaded, layer)\n",
        "  SaveModel(FirstModel, SecondModel, teller)\n",
        "  teller+=1\n",
        "\n",
        "\n",
        "\n",
        "FirstModel.summary()"
      ],
      "execution_count": 0,
      "outputs": []
    }
  ]
}